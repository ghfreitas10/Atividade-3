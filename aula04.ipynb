{
 "cells": [
  {
   "cell_type": "code",
   "execution_count": 4,
   "metadata": {},
   "outputs": [],
   "source": [
    "valor1 = input(\"Digite um valor inteiro: \")\n",
    "valor2 = input(\"Digite outro número inteiro: \")"
   ]
  },
  {
   "cell_type": "code",
   "execution_count": 9,
   "metadata": {},
   "outputs": [
    {
     "name": "stdout",
     "output_type": "stream",
     "text": [
      "False\n",
      "False\n",
      "True\n",
      "False\n",
      "True\n"
     ]
    }
   ],
   "source": [
    "print(valor1 == valor2)\n",
    "print(valor1 > valor2)\n",
    "print(valor1 < valor2)\n",
    "print(valor1 >= valor2)\n",
    "print(valor1 <= valor2)"
   ]
  },
  {
   "cell_type": "code",
   "execution_count": 13,
   "metadata": {},
   "outputs": [
    {
     "name": "stdout",
     "output_type": "stream",
     "text": [
      "False\n"
     ]
    }
   ],
   "source": [
    "numero = 10\n",
    "print(numero > 0 and numero < 10)"
   ]
  },
  {
   "cell_type": "code",
   "execution_count": 16,
   "metadata": {},
   "outputs": [
    {
     "name": "stdout",
     "output_type": "stream",
     "text": [
      "Seu número é par.\n"
     ]
    }
   ],
   "source": [
    "numero = int(input(\"Digite um número inteiro: \"))\n",
    "\n",
    "if numero % 2 == 0:\n",
    "    print(\"Seu número é par.\")\n",
    "else:\n",
    "    print(\"Seu número é ímpar.\")"
   ]
  },
  {
   "cell_type": "code",
   "execution_count": 23,
   "metadata": {},
   "outputs": [
    {
     "name": "stdout",
     "output_type": "stream",
     "text": [
      "Você ganhou 10% de desconto\n"
     ]
    }
   ],
   "source": [
    "cupom = input(\"Digite o cupom: \")\n",
    "\n",
    "if cupom == \"aula1\" or \"aula2\":\n",
    "    print(\"Você ganhou 10% de desconto\")"
   ]
  },
  {
   "cell_type": "code",
   "execution_count": 25,
   "metadata": {},
   "outputs": [
    {
     "name": "stdout",
     "output_type": "stream",
     "text": [
      "Você ganhou 10% de desconto\n"
     ]
    }
   ],
   "source": [
    "cupom = input(\"Digite o cupom: \")\n",
    "\n",
    "if cupom == \"aula1\" or \"aula2\":\n",
    "    print(\"Você ganhou 10% de desconto\")\n",
    "else:\n",
    "    print(\"Cupom inválido.\")"
   ]
  },
  {
   "cell_type": "code",
   "execution_count": 27,
   "metadata": {},
   "outputs": [
    {
     "name": "stdout",
     "output_type": "stream",
     "text": [
      "Você ganhou 5% de desconto.\n"
     ]
    }
   ],
   "source": [
    "cupom = input(\"Digite o cupom: \")\n",
    "\n",
    "if cupom == \"aula1\":\n",
    "    print(\"Você ganhou 15% de desconto.\")\n",
    "elif cupom == \"aula2\":\n",
    "    print(\"Você ganhou 5% de desconto.\")"
   ]
  }
 ],
 "metadata": {
  "kernelspec": {
   "display_name": "Python 3",
   "language": "python",
   "name": "python3"
  },
  "language_info": {
   "codemirror_mode": {
    "name": "ipython",
    "version": 3
   },
   "file_extension": ".py",
   "mimetype": "text/x-python",
   "name": "python",
   "nbconvert_exporter": "python",
   "pygments_lexer": "ipython3",
   "version": "3.10.11"
  }
 },
 "nbformat": 4,
 "nbformat_minor": 2
}
