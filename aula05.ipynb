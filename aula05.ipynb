{
 "cells": [
  {
   "cell_type": "code",
   "execution_count": 24,
   "metadata": {},
   "outputs": [
    {
     "name": "stdout",
     "output_type": "stream",
     "text": [
      "O número informado foi: 45\n"
     ]
    }
   ],
   "source": [
    "numero = int(input(\"Digite um número: \"))\n",
    "\n",
    "print(f\"O número informado foi: {numero}\")"
   ]
  },
  {
   "cell_type": "code",
   "execution_count": 25,
   "metadata": {},
   "outputs": [
    {
     "name": "stdout",
     "output_type": "stream",
     "text": [
      "75\n"
     ]
    }
   ],
   "source": [
    "num1 = int(input(\"Digite o primeiro número: \"))\n",
    "num2 = int(input(\"Digite o segundo número: \"))\n",
    "\n",
    "print(num1 + num2)"
   ]
  },
  {
   "cell_type": "code",
   "execution_count": 2,
   "metadata": {},
   "outputs": [
    {
     "name": "stdout",
     "output_type": "stream",
     "text": [
      "7.333333333333333\n"
     ]
    }
   ],
   "source": [
    "nota1 = int(input(\"Digite a primeira nota: \"))\n",
    "nota2 = int(input(\"Digite a segunda nota: \"))\n",
    "nota3 = int(input(\"Digite a terceira nota: \"))\n",
    "\n",
    "media = (nota1+nota2+nota3)/3\n",
    "print(media)"
   ]
  },
  {
   "cell_type": "code",
   "execution_count": 10,
   "metadata": {},
   "outputs": [
    {
     "name": "stdout",
     "output_type": "stream",
     "text": [
      "Você ganha 1412.4 por mês.\n"
     ]
    }
   ],
   "source": [
    "ganhosHora = float(input(\"Quanto você ganha por hora? \"))\n",
    "horasMes = float(input(\"Quantas horas você trabalha no mês? \"))\n",
    "\n",
    "salario = ganhosHora * horasMes\n",
    "print(f'Você ganha {salario} por mês.')"
   ]
  },
  {
   "cell_type": "code",
   "execution_count": 23,
   "metadata": {},
   "outputs": [
    {
     "name": "stdout",
     "output_type": "stream",
     "text": [
      "Sua multa é de: 32.0 reais\n"
     ]
    }
   ],
   "source": [
    "peso_peixe = float(input(\"Qual o peso do peixe? \"))\n",
    "multa = 4.00\n",
    "\n",
    "if peso_peixe > 50:\n",
    "    excesso = float(input(\"Qual a quantidade de quilos excedentes: \"))\n",
    "    calculo = excesso * multa\n",
    "    print(f\"Sua multa é de: {calculo} reais\")\n",
    "else:\n",
    "    print(\"Você não será multado.\")"
   ]
  }
 ],
 "metadata": {
  "kernelspec": {
   "display_name": "base",
   "language": "python",
   "name": "python3"
  },
  "language_info": {
   "codemirror_mode": {
    "name": "ipython",
    "version": 3
   },
   "file_extension": ".py",
   "mimetype": "text/x-python",
   "name": "python",
   "nbconvert_exporter": "python",
   "pygments_lexer": "ipython3",
   "version": "3.11.5"
  }
 },
 "nbformat": 4,
 "nbformat_minor": 2
}
