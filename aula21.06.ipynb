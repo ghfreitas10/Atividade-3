{
 "cells": [
  {
   "cell_type": "code",
   "execution_count": 16,
   "metadata": {},
   "outputs": [],
   "source": [
    "#criando uma classe\n",
    "class Animal():\n",
    "    #construtor de classe\n",
    "    def __init__(self, name, weight, color):\n",
    "        #atributo\n",
    "        self.nome = name\n",
    "        self.peso = weight\n",
    "        self.corDoPelo = color\n",
    "\n",
    "    def imprimirDados(self):\n",
    "        return(f\"Nome: {self.nome} \\nPeso: {self.peso}\")\n",
    "    \n",
    "    def latir(self, barulho):\n",
    "        print(barulho)"
   ]
  },
  {
   "cell_type": "code",
   "execution_count": 17,
   "metadata": {},
   "outputs": [
    {
     "name": "stdout",
     "output_type": "stream",
     "text": [
      "Nome: Marlene \n",
      "Peso: 7.9\n",
      "Au, au!\n",
      "Nome: Cibele \n",
      "Peso: 4.5\n",
      "Miau!\n"
     ]
    }
   ],
   "source": [
    "#instanciando um objeto cachorro\n",
    "caozinho = Animal(\"Marlene\", 7.9, \"Caramelo\")\n",
    "gato = Animal(\"Cibele\", 4.5, \"Cinza\")\n",
    "\n",
    "#chamando o método do objeto criado\n",
    "print(caozinho.imprimirDados())\n",
    "caozinho.latir(\"Au, au!\")\n",
    "\n",
    "print(gato.imprimirDados())\n",
    "gato.latir(\"Miau!\")"
   ]
  },
  {
   "cell_type": "code",
   "execution_count": 15,
   "metadata": {},
   "outputs": [],
   "source": [
    "#criando uma classe chamada livro\n",
    "class Livro:\n",
    "    def __init__(self):\n",
    "        self.titulo = \"O Monge e o Executivo\"\n",
    "        self.isbn = 9988888\n",
    "        print(\"Construtor chamado para criar um objeto desta classe\")\n",
    "\n",
    "    def imprime(self):\n",
    "        print(f'Foi criado o livro {self.livro} e ISBN {self.isbn}')"
   ]
  },
  {
   "cell_type": "code",
   "execution_count": 18,
   "metadata": {},
   "outputs": [
    {
     "name": "stdout",
     "output_type": "stream",
     "text": [
      "Construtor chamado para criar um objeto desta classe\n"
     ]
    }
   ],
   "source": [
    "#criando uma instancia da classe livro\n",
    "livro1 = Livro()"
   ]
  },
  {
   "cell_type": "code",
   "execution_count": 20,
   "metadata": {},
   "outputs": [
    {
     "data": {
      "text/plain": [
       "__main__.Livro"
      ]
     },
     "execution_count": 20,
     "metadata": {},
     "output_type": "execute_result"
    }
   ],
   "source": [
    "#tipo do objeto Livro1\n",
    "type(livro1)"
   ]
  },
  {
   "cell_type": "code",
   "execution_count": 22,
   "metadata": {},
   "outputs": [
    {
     "data": {
      "text/plain": [
       "'O Monge e o Executivo'"
      ]
     },
     "execution_count": 22,
     "metadata": {},
     "output_type": "execute_result"
    }
   ],
   "source": [
    "livro1.titulo"
   ]
  },
  {
   "cell_type": "code",
   "execution_count": 36,
   "metadata": {},
   "outputs": [],
   "source": [
    "class Livro():\n",
    "    #este método vai inicializar cada objeto criado a partir desta classe\n",
    "    #o nome desse método é __init__\n",
    "    #(self) é uma referência a cada atributo de um objeto criado a partir desta\n",
    "\n",
    "    def __init__(self, titulo, isbn):\n",
    "        self.titulo = titulo\n",
    "        self.isbn = isbn\n",
    "        print(\"Construtor chamado para criar um objeto desta classe\")\n",
    "\n",
    "    def imprimeDadosLivro(self):\n",
    "        print(f\"Foi criado o livro {self.titulo} e ISBN {self.isbn}\")"
   ]
  },
  {
   "cell_type": "code",
   "execution_count": 37,
   "metadata": {},
   "outputs": [
    {
     "name": "stdout",
     "output_type": "stream",
     "text": [
      "Construtor chamado para criar um objeto desta classe\n"
     ]
    }
   ],
   "source": [
    "#Criando o objeto Livro2 que é uma instância da classe livro\n",
    "livro2 = Livro(\"A Menina que Roubava Livros\", 77886611)"
   ]
  },
  {
   "cell_type": "code",
   "execution_count": 12,
   "metadata": {},
   "outputs": [],
   "source": [
    "class Pessoa():\n",
    "    def __init__(self, name, age):\n",
    "        self.nome = name\n",
    "        self.idade = age\n",
    "\n",
    "    def nascimento(self, idade):\n",
    "        return(2024-idade)"
   ]
  },
  {
   "cell_type": "code",
   "execution_count": 13,
   "metadata": {},
   "outputs": [
    {
     "data": {
      "text/plain": [
       "1989"
      ]
     },
     "execution_count": 13,
     "metadata": {},
     "output_type": "execute_result"
    }
   ],
   "source": [
    "pessoa1 = Pessoa(\"Maria\", 35)\n",
    "pessoa1.nome\n",
    "pessoa1.idade\n",
    "pessoa1.nascimento(35)"
   ]
  },
  {
   "cell_type": "code",
   "execution_count": 14,
   "metadata": {},
   "outputs": [
    {
     "name": "stdout",
     "output_type": "stream",
     "text": [
      "Nome: Gustavo, idade: 24\n",
      "Nome: Mauro, idade: 21\n",
      "Nome: Erick, idade: 42\n",
      "Nome: Messinho, idade: 24\n",
      "Nome: Gustavo, idade: 24\n"
     ]
    }
   ],
   "source": [
    "listaDePessoas = []\n",
    "for i in range(5):\n",
    "    nome = str(input(\"Nome: \"))\n",
    "    idade = int(input(\"Idade: \"))\n",
    "    pessoa = Pessoa(nome, idade)\n",
    "    listaDePessoas.append(pessoa)\n",
    "\n",
    "for objeto in range(len(listaDePessoas)):\n",
    "    print(\"Nome: %s, idade: %d\" %(listaDePessoas[objeto].nome, listaDePessoas[objeto].idade))"
   ]
  }
 ],
 "metadata": {
  "kernelspec": {
   "display_name": "Python 3",
   "language": "python",
   "name": "python3"
  },
  "language_info": {
   "codemirror_mode": {
    "name": "ipython",
    "version": 3
   },
   "file_extension": ".py",
   "mimetype": "text/x-python",
   "name": "python",
   "nbconvert_exporter": "python",
   "pygments_lexer": "ipython3",
   "version": "3.10.11"
  }
 },
 "nbformat": 4,
 "nbformat_minor": 2
}
