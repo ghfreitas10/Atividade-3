{
 "cells": [
  {
   "cell_type": "code",
   "execution_count": 3,
   "metadata": {},
   "outputs": [],
   "source": [
    "#função sem parametro\n",
    "def funcaoleitura():\n",
    "    for num in [1,2,3,4,5]:\n",
    "        print(f'Número {num}')"
   ]
  },
  {
   "cell_type": "code",
   "execution_count": 5,
   "metadata": {},
   "outputs": [
    {
     "name": "stdout",
     "output_type": "stream",
     "text": [
      "Número 1\n",
      "Número 2\n",
      "Número 3\n",
      "Número 4\n",
      "Número 5\n"
     ]
    }
   ],
   "source": [
    "funcaoleitura()"
   ]
  },
  {
   "cell_type": "code",
   "execution_count": 7,
   "metadata": {},
   "outputs": [],
   "source": [
    "#função com range\n",
    "def funcaoleitura():\n",
    "    for num in range(5):\n",
    "        print(f'Número {num}')"
   ]
  },
  {
   "cell_type": "code",
   "execution_count": 10,
   "metadata": {},
   "outputs": [
    {
     "name": "stdout",
     "output_type": "stream",
     "text": [
      "Número 0\n",
      "Número 1\n",
      "Número 2\n",
      "Número 3\n",
      "Número 4\n"
     ]
    }
   ],
   "source": [
    "funcaoleitura()"
   ]
  },
  {
   "cell_type": "code",
   "execution_count": 13,
   "metadata": {},
   "outputs": [],
   "source": [
    "#função para somar dois números\n",
    "def addnum(n1,n2):\n",
    "    print(f'O primeiro número é: {n1}')\n",
    "    print(f'O segundo número é: {n2}')\n",
    "    print(f'A soma do número é: {n1+n2}')"
   ]
  },
  {
   "cell_type": "code",
   "execution_count": 15,
   "metadata": {},
   "outputs": [
    {
     "name": "stdout",
     "output_type": "stream",
     "text": [
      "O primeiro número é: 2\n",
      "O segundo número é: 3\n",
      "a soma do número é: 5\n"
     ]
    }
   ],
   "source": [
    "addnum(2,3)"
   ]
  },
  {
   "cell_type": "code",
   "execution_count": 17,
   "metadata": {},
   "outputs": [
    {
     "name": "stdout",
     "output_type": "stream",
     "text": [
      "O primeiro número é: 4\n",
      "O segundo número é: 3\n",
      "a soma do número é: 7\n"
     ]
    }
   ],
   "source": [
    "addnum(4,3)"
   ]
  },
  {
   "cell_type": "code",
   "execution_count": 19,
   "metadata": {},
   "outputs": [
    {
     "ename": "TypeError",
     "evalue": "addnum() missing 2 required positional arguments: 'n1' and 'n2'",
     "output_type": "error",
     "traceback": [
      "\u001b[1;31m---------------------------------------------------------------------------\u001b[0m",
      "\u001b[1;31mTypeError\u001b[0m                                 Traceback (most recent call last)",
      "Cell \u001b[1;32mIn[19], line 2\u001b[0m\n\u001b[0;32m      1\u001b[0m \u001b[38;5;66;03m# erro por falta de parametro exigido em criação da função\u001b[39;00m\n\u001b[1;32m----> 2\u001b[0m \u001b[43maddnum\u001b[49m\u001b[43m(\u001b[49m\u001b[43m)\u001b[49m\n",
      "\u001b[1;31mTypeError\u001b[0m: addnum() missing 2 required positional arguments: 'n1' and 'n2'"
     ]
    }
   ],
   "source": [
    "# erro por falta de parametro exigido em criação da função\n",
    "addnum()"
   ]
  },
  {
   "cell_type": "code",
   "execution_count": 21,
   "metadata": {},
   "outputs": [
    {
     "name": "stdout",
     "output_type": "stream",
     "text": [
      "Variável da função Multiplica: 20\n",
      "10\n"
     ]
    }
   ],
   "source": [
    "varGlobal = 10 #essa é uma variável global\n",
    "def multiplicacao(num1, num2):\n",
    "    #apesar do mesmo nome, é uma variável local\n",
    "    varGlobal = (num1 * num2)\n",
    "    print(f\"Variável da função Multiplica: {varGlobal}\")\n",
    "multiplicacao(5,4)\n",
    "print(varGlobal)"
   ]
  },
  {
   "cell_type": "code",
   "execution_count": 24,
   "metadata": {},
   "outputs": [],
   "source": [
    "def separarTexto(texto):\n",
    "    return texto.split()"
   ]
  },
  {
   "cell_type": "code",
   "execution_count": 26,
   "metadata": {},
   "outputs": [
    {
     "data": {
      "text/plain": [
       "['Cibele', 'Maria', 'Suely']"
      ]
     },
     "execution_count": 26,
     "metadata": {},
     "output_type": "execute_result"
    }
   ],
   "source": [
    "separarTexto('Cibele Maria Suely')"
   ]
  },
  {
   "cell_type": "code",
   "execution_count": 29,
   "metadata": {},
   "outputs": [
    {
     "name": "stdout",
     "output_type": "stream",
     "text": [
      "Parâmetros, 0, Cibelle\n",
      "Parâmetros, 1, Suely\n",
      "Parâmetros, 2, Giggio\n",
      "Parâmetros, 3, Madá\n",
      "Parâmetros, 4, Luquinhas\n"
     ]
    }
   ],
   "source": [
    "#Quando não sabermos a quantidade de parametros basta usar o *\n",
    "def variosParametros(*parametros):\n",
    "    for n, item in enumerate(parametros):\n",
    "        print(f\"Parâmetros, {n}, {item}\")\n",
    "    return\n",
    "\n",
    "variosParametros('Cibelle', 'Suely', 'Giggio', 'Madá', 'Luquinhas')"
   ]
  },
  {
   "cell_type": "code",
   "execution_count": 32,
   "metadata": {},
   "outputs": [
    {
     "name": "stdout",
     "output_type": "stream",
     "text": [
      "Parâmetros, 0, pitomba\n",
      "Parâmetros, 1, jambo\n",
      "Parâmetros, 2, siriguela\n",
      "Parâmetros, 3, umbu\n"
     ]
    }
   ],
   "source": [
    "variosParametros('pitomba', 'jambo', 'siriguela', 'umbu')"
   ]
  },
  {
   "cell_type": "code",
   "execution_count": 34,
   "metadata": {},
   "outputs": [],
   "source": [
    "def soma(n1, n2):\n",
    "    return n1+n2\n",
    "def subtrai(n1, n2):\n",
    "    return n1-n2\n",
    "def multiplica(n1,n2):\n",
    "    return n1*n2\n",
    "def divide(n1, n2):\n",
    "    return n1/n2"
   ]
  },
  {
   "cell_type": "code",
   "execution_count": 2,
   "metadata": {},
   "outputs": [
    {
     "name": "stdout",
     "output_type": "stream",
     "text": [
      "+===================+\n",
      "| MENU DE OPERAÇÕES  \n",
      "| 1 - somar          \n",
      "| 2 - subtrair       \n",
      "| 3 - multiplicar    \n",
      "| 4 - dividir        \n",
      "| 0 - sair           \n",
      "+===================+\n"
     ]
    }
   ],
   "source": [
    "while True:\n",
    "    print(\"+===================+\")\n",
    "    print(\"| MENU DE OPERAÇÕES  \")\n",
    "    print(\"| 1 - somar          \")\n",
    "    print(\"| 2 - subtrair       \")\n",
    "    print(\"| 3 - multiplicar    \")\n",
    "    print(\"| 4 - dividir        \")\n",
    "    print(\"| 0 - sair           \")\n",
    "    print(\"+===================+\")\n",
    "\n",
    "    op = int(input(\"Digite a operação desejada: \"))\n",
    "    if op == 0:\n",
    "        break\n",
    "\n",
    "    n1 = int(input(\"Digite o primeiro número: \"))\n",
    "    n2 = int(input(\"Digite o segundo número: \"))\n",
    "\n",
    "    if op == 1:\n",
    "        print(f'O resultado da soma é: {n1+n2}')\n",
    "    elif op == 2:\n",
    "        print(f'O resultado da subtração é: {n1-n2}')\n",
    "    elif op == 3:\n",
    "        print(f'O resultado da multiplicação é: {n1*n2}')\n",
    "    elif op == 4:\n",
    "        print(f'O resultado da divisão é: {n1/n2}')\n",
    "    else:\n",
    "        print(\"Operação inválida\")\n",
    "        break"
   ]
  }
 ],
 "metadata": {
  "kernelspec": {
   "display_name": "Python 3",
   "language": "python",
   "name": "python3"
  },
  "language_info": {
   "codemirror_mode": {
    "name": "ipython",
    "version": 3
   },
   "file_extension": ".py",
   "mimetype": "text/x-python",
   "name": "python",
   "nbconvert_exporter": "python",
   "pygments_lexer": "ipython3",
   "version": "3.10.2"
  }
 },
 "nbformat": 4,
 "nbformat_minor": 2
}
