{
 "cells": [
  {
   "cell_type": "code",
   "execution_count": 21,
   "metadata": {},
   "outputs": [
    {
     "name": "stdout",
     "output_type": "stream",
     "text": [
      "5 patinhos foram passear \n",
      " além das montanhas para brincar\n",
      "a mamãe gritou: quá, quá, quá, quá, quá\n",
      " mas só 4 patinhos voltaram de lá\n",
      "4 patinhos foram passear \n",
      " além das montanhas para brincar\n",
      "a mamãe gritou: quá, quá, quá, quá, quá\n",
      " mas só 3 patinhos voltaram de lá\n",
      "3 patinhos foram passear \n",
      " além das montanhas para brincar\n",
      "a mamãe gritou: quá, quá, quá, quá, quá\n",
      " mas só 2 patinhos voltaram de lá\n",
      "2 patinhos foram passear \n",
      " além das montanhas para brincar\n",
      "a mamãe gritou: quá, quá, quá, quá, quá\n",
      " mas só 1 patinhos voltaram de lá\n",
      "1 patinhos foram passear \n",
      " além das montanhas para brincar\n",
      "a mamãe gritou: quá, quá, quá, quá, quá\n",
      " mas só 0 patinhos voltaram de lá\n"
     ]
    }
   ],
   "source": [
    "for patinhos in [5, 4, 3, 2, 1]:\n",
    "  print(patinhos, \"patinhos foram passear \\n além das montanhas para brincar\\na mamãe gritou: quá, quá, quá, quá, quá\\n mas só\", patinhos-1, \"patinhos voltaram de lá\")"
   ]
  },
  {
   "cell_type": "code",
   "execution_count": 7,
   "metadata": {},
   "outputs": [
    {
     "name": "stdout",
     "output_type": "stream",
     "text": [
      "2 x 1 = 2\n",
      "2 x 2 = 4\n",
      "2 x 3 = 6\n",
      "2 x 4 = 8\n",
      "2 x 5 = 10\n",
      "2 x 6 = 12\n",
      "2 x 7 = 14\n",
      "2 x 8 = 16\n",
      "2 x 9 = 18\n",
      "2 x 10 = 20\n"
     ]
    }
   ],
   "source": [
    "num = int(input(\"Digite um número:\"))\n",
    "\n",
    "\n",
    "for indice in [1,2,3,4,5,6,7,8,9,10]:\n",
    "    print(num,'x', indice, '=', num*indice)"
   ]
  },
  {
   "cell_type": "code",
   "execution_count": 6,
   "metadata": {},
   "outputs": [
    {
     "name": "stdout",
     "output_type": "stream",
     "text": [
      "2 x 0 = 0\n",
      "2 x 1 = 2\n",
      "2 x 2 = 4\n",
      "2 x 3 = 6\n",
      "2 x 4 = 8\n",
      "2 x 5 = 10\n",
      "2 x 6 = 12\n",
      "2 x 7 = 14\n",
      "2 x 8 = 16\n",
      "2 x 9 = 18\n",
      "2 x 10 = 20\n"
     ]
    }
   ],
   "source": [
    "num = int(input(\"Digite um número:\"))\n",
    "\n",
    "\n",
    "for indice in range(11):\n",
    "    print(num,'x', indice, '=', num*indice)"
   ]
  }
 ],
 "metadata": {
  "kernelspec": {
   "display_name": "Python 3",
   "language": "python",
   "name": "python3"
  },
  "language_info": {
   "codemirror_mode": {
    "name": "ipython",
    "version": 3
   },
   "file_extension": ".py",
   "mimetype": "text/x-python",
   "name": "python",
   "nbconvert_exporter": "python",
   "pygments_lexer": "ipython3",
   "version": "3.10.11"
  }
 },
 "nbformat": 4,
 "nbformat_minor": 2
}
